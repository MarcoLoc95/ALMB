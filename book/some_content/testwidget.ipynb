{
 "cells": [
  {
   "cell_type": "markdown",
   "id": "fc65cecb-04ef-4cc9-ac88-2d1e5028bc8e",
   "metadata": {},
   "source": [
    "# The diffraction limit revisited\n",
    "\n",
    "aaaa\n",
    "\n",
    "Diffraction from a circular aperture: the Airy disk\n",
    "---\n",
    "aa"
   ]
  },
  {
   "cell_type": "code",
   "execution_count": 4,
   "id": "d9265efa-6b51-42c3-b872-42a3df0d7f15",
   "metadata": {},
   "outputs": [
    {
     "data": {
      "application/vnd.jupyter.widget-view+json": {
       "model_id": "f52c359d1ae74d54aab21be135d4af82",
       "version_major": 2,
       "version_minor": 0
      },
      "text/plain": [
       "interactive(children=(FloatSlider(value=500.0, description='l', max=700.0, min=300.0, step=1.0), FloatSlider(v…"
      ]
     },
     "metadata": {},
     "output_type": "display_data"
    },
    {
     "data": {
      "text/plain": [
       "<function __main__.plot_function(l, d, D)>"
      ]
     },
     "execution_count": 4,
     "metadata": {},
     "output_type": "execute_result"
    }
   ],
   "source": [
    "import numpy as np\n",
    "import matplotlib.pyplot as plt\n",
    "from ipywidgets import interact\n",
    "import ipywidgets as widgets\n",
    "\n",
    "def plot_function(l,d,D):\n",
    "    l=l*1e-9\n",
    "    k=2*np.pi/l\n",
    "    x = np.linspace(-1.5, 1.5, 200)\n",
    "    y = (np.sin(k/D * x*d/2)/(k/D * x))**2\n",
    "    plt.plot(x, y)\n",
    "    plt.show()\n",
    "\n",
    "interact(plot_function,\n",
    "        l=widgets.FloatSlider(min=300, max=700, step=1, value=500),\n",
    "        d=widgets.FloatSlider(min=1e-7, max=5e-6, step=1e-7, value=1e-6),\n",
    "        D=widgets.FloatSlider(min=0.1, max=10, step=0.1, value=1))\n"
   ]
  },
  {
   "cell_type": "markdown",
   "id": "a23561d4-f25a-4fc4-a1c9-1887a6eeba38",
   "metadata": {},
   "source": [
    "Abbe's criterion for resolution\n",
    "---\n",
    "aa\n",
    "\n",
    "Rayleigh's criterion for resolution\n",
    "--\n",
    "s"
   ]
  }
 ],
 "metadata": {
  "kernelspec": {
   "display_name": "Python 3 (ipykernel)",
   "language": "python",
   "name": "python3"
  },
  "language_info": {
   "codemirror_mode": {
    "name": "ipython",
    "version": 3
   },
   "file_extension": ".py",
   "mimetype": "text/x-python",
   "name": "python",
   "nbconvert_exporter": "python",
   "pygments_lexer": "ipython3",
   "version": "3.12.7"
  }
 },
 "nbformat": 4,
 "nbformat_minor": 5
}

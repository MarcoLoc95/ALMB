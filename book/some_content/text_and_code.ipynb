import numpy as np
import matplotlib.pyplot as plt
from ipywidgets import interact
import ipywidgets as widgets

def plot_function(frequency):
    x = np.linspace(0, 10, 100)
    y = np.sin(frequency * x)
    plt.plot(x, y)
    plt.show()

interact(plot_function, frequency=widgets.FloatSlider(min=0.1, max=5, step=0.1, value=1))

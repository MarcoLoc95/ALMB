{
 "cells": [
  {
   "cell_type": "code",
   "execution_count": 1,
   "id": "1dfd5e00-c570-4db7-bc1c-afe18bc43c53",
   "metadata": {},
   "outputs": [
    {
     "data": {
      "application/vnd.jupyter.widget-view+json": {
       "model_id": "da4f61dfbfbb489eb02db1fb1ad0940a",
       "version_major": 2,
       "version_minor": 0
      },
      "text/plain": [
       "interactive(children=(FloatSlider(value=500.0, description='λ = 500 nm', layout=Layout(width='500px'), max=700…"
      ]
     },
     "metadata": {},
     "output_type": "display_data"
    },
    {
     "data": {
      "text/plain": [
       "<function __main__.plot_airy_disk(l, d, D)>"
      ]
     },
     "execution_count": 1,
     "metadata": {},
     "output_type": "execute_result"
    }
   ],
   "source": [
    "import numpy as np\n",
    "import matplotlib.pyplot as plt\n",
    "from ipywidgets import interact\n",
    "import ipywidgets as widgets\n",
    "import matplotlib as mpl\n",
    "mpl.rcParams['figure.dpi'] = 150\n",
    "from scipy.special import j1  # Import Bessel function\n",
    "\n",
    "# Airy disk calculation function\n",
    "def plot_airy_disk(l, d, D):\n",
    "    l = l * 1e-9  # Convert wavelength to meters\n",
    "    k = 2 * np.pi / l  # Wavenumber\n",
    "    x = np.linspace(-1e-4, 1e-4, 200)  # Grid size for 2D position in meters\n",
    "    X, Y = np.meshgrid(x, x)\n",
    "    r = np.sqrt(X**2 + Y**2)\n",
    "    \n",
    "    # Airy disk intensity pattern (normalized), using J1 for the Bessel function\n",
    "    with np.errstate(divide='ignore', invalid='ignore'):\n",
    "        airy_disk = (2 * j1(k * r * d / D) / (k * r * d / D)) ** 2\n",
    "    airy_disk[r == 0] = 1  # Handle the center point to avoid division by zero\n",
    "    \n",
    "    plt.imshow(airy_disk, extent=(x.min(), x.max(), x.min(), x.max()), cmap='viridis')\n",
    "    plt.colorbar(label='Normalized intensity [a.u.]')\n",
    "    plt.xlabel('Position on screen [m]')\n",
    "    plt.ylabel('Position on screen [m]')\n",
    "    plt.show()\n",
    "\n",
    "# Custom slider with units function\n",
    "def slider_with_units(value, min, max, step, readout_format, description, unit):\n",
    "    slider = widgets.FloatSlider(value=value, min=min, max=max, step=step, readout=False, \n",
    "                                 description=f\"{description} = {value:{readout_format}} {unit}\", \n",
    "                                 style={'description_width': '100px'}, \n",
    "                                 layout=widgets.Layout(width='500px'))\n",
    "    slider.observe(lambda change: slider.set_trait('description', f\"{description} = {change['new']:{readout_format}} {unit} \"), names='value')\n",
    "    return slider\n",
    "\n",
    "# Interact with sliders\n",
    "interact(plot_airy_disk,\n",
    "         l=slider_with_units(500, 300, 700, 1, '.0f', \"λ\", \"nm\"),\n",
    "         d=slider_with_units(5e-6, 1e-6, 10e-6, 1e-6, '.1e', \"d\", \"m\"),\n",
    "         D=slider_with_units(1, 0.2, 10, 0.1, '.1f', \"D\", \"m\"))\n"
   ]
  },
  {
   "cell_type": "code",
   "execution_count": null,
   "id": "576bfb80-bcb3-461c-9072-63467ed1ab2e",
   "metadata": {},
   "outputs": [],
   "source": []
  }
 ],
 "metadata": {
  "kernelspec": {
   "display_name": "Python 3 (ipykernel)",
   "language": "python",
   "name": "python3"
  },
  "language_info": {
   "codemirror_mode": {
    "name": "ipython",
    "version": 3
   },
   "file_extension": ".py",
   "mimetype": "text/x-python",
   "name": "python",
   "nbconvert_exporter": "python",
   "pygments_lexer": "ipython3",
   "version": "3.12.7"
  }
 },
 "nbformat": 4,
 "nbformat_minor": 5
}

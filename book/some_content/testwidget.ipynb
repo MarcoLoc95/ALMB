{
 "cells": [
  {
   "cell_type": "markdown",
   "id": "fc65cecb-04ef-4cc9-ac88-2d1e5028bc8e",
   "metadata": {},
   "source": [
    "# Text text\n",
    "\n",
    "What a wonderful world"
   ]
  },
  {
   "cell_type": "code",
   "execution_count": 1,
   "id": "d9265efa-6b51-42c3-b872-42a3df0d7f15",
   "metadata": {},
   "outputs": [
    {
     "data": {
      "application/vnd.jupyter.widget-view+json": {
       "model_id": "ad1197df57b1410eb9c54fb2dd0b9697",
       "version_major": 2,
       "version_minor": 0
      },
      "text/plain": [
       "interactive(children=(FloatSlider(value=1.0, description='frequency', max=5.0, min=0.1), Output()), _dom_class…"
      ]
     },
     "metadata": {},
     "output_type": "display_data"
    },
    {
     "data": {
      "text/plain": [
       "<function __main__.plot_function(frequency)>"
      ]
     },
     "execution_count": 1,
     "metadata": {},
     "output_type": "execute_result"
    }
   ],
   "source": [
    "import numpy as np\n",
    "import matplotlib.pyplot as plt\n",
    "from ipywidgets import interact\n",
    "import ipywidgets as widgets\n",
    "\n",
    "def plot_function(frequency):\n",
    "    x = np.linspace(0, 10, 100)\n",
    "    y = np.sin(frequency * x)\n",
    "    plt.plot(x, y)\n",
    "    plt.show()\n",
    "\n",
    "interact(plot_function, frequency=widgets.FloatSlider(min=0.1, max=5, step=0.1, value=1))\n"
   ]
  },
  {
   "cell_type": "code",
   "execution_count": null,
   "id": "efae921d-d268-4ee5-9269-9262a2f7735c",
   "metadata": {},
   "outputs": [],
   "source": []
  }
 ],
 "metadata": {
  "kernelspec": {
   "display_name": "Python 3 (ipykernel)",
   "language": "python",
   "name": "python3"
  },
  "language_info": {
   "codemirror_mode": {
    "name": "ipython",
    "version": 3
   },
   "file_extension": ".py",
   "mimetype": "text/x-python",
   "name": "python",
   "nbconvert_exporter": "python",
   "pygments_lexer": "ipython3",
   "version": "3.12.7"
  }
 },
 "nbformat": 4,
 "nbformat_minor": 5
}
